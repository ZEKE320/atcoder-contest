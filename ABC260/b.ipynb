{
 "cells": [
  {
   "cell_type": "code",
   "execution_count": 7,
   "metadata": {},
   "outputs": [],
   "source": [
    "#%%\n",
    "import numpy as np\n",
    "from sys import stdin\n",
    "\n",
    "N, X, Y, Z = map(int, input().split())\n",
    "\n",
    "point_matrix = np.empty(N * 2).reshape(N, 2)\n",
    "\n",
    "math = list(map(int, input().split()))\n",
    "english = list(map(int, input().split()))\n",
    "dtype = [(\"ID\", int), (\"math\", int), (\"english\", int)]\n",
    "\n",
    "values = list()\n",
    "\n",
    "for i in range(N):\n",
    "    values.append((i, math[i], english[i]))\n",
    "\n",
    "arr = np.array(values, dtype=dtype)\n"
   ]
  }
 ],
 "metadata": {
  "kernelspec": {
   "display_name": "Python 3.10.5 64-bit",
   "language": "python",
   "name": "python3"
  },
  "language_info": {
   "codemirror_mode": {
    "name": "ipython",
    "version": 3
   },
   "file_extension": ".py",
   "mimetype": "text/x-python",
   "name": "python",
   "nbconvert_exporter": "python",
   "pygments_lexer": "ipython3",
   "version": "3.10.5"
  },
  "orig_nbformat": 4,
  "vscode": {
   "interpreter": {
    "hash": "26da9762604bc225405109b04285b569ac78214e4e8e9e9b5ac0ea6baf861ebd"
   }
  }
 },
 "nbformat": 4,
 "nbformat_minor": 2
}
